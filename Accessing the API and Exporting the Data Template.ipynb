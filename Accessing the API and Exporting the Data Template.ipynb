{
 "cells": [
  {
   "cell_type": "code",
   "execution_count": 1,
   "metadata": {},
   "outputs": [],
   "source": [
    "import requests\n",
    "import json\n",
    "import pandas as pd\n",
    "import datetime\n",
    "\n",
    "# Implicit Grant flow\n",
    "\n",
    "auth = \"\"\"insert authorization here\"\"\"\n",
    "\n",
    "token = \"insert token here\"\n",
    "\n",
    "## Getting sleep data ##\n",
    "\n",
    "# Get the first/last date I started collecting data  \n",
    "start_date = datetime.datetime(2021,2,9).strftime('%Y-%m-%d')\n",
    "end_date = datetime.datetime(2021,3,9).strftime('%Y-%m-%d')\n",
    "\n",
    "# From 2/9/21, get next 30 days\n",
    "date_list = pd.date_range(start=start_date, periods=30).to_list()\n",
    "\n",
    "\n",
    "url = \"https://api.fitbit.com/1.2/user/-/sleep/date/\" + start_date + \"/\" + end_date + \".json\"\n",
    "\n",
    "header = {\"Authorization\": \"Bearer {}\".format(token)}\n",
    "response = requests.get(url=url, headers=header).json()\n",
    "\n",
    "with open(\"SLEEP.json\", \"w\") as f:\n",
    "    json.dump(response, f)\n",
    "    \n",
    "    \n",
    "# has totalTimeinBed = sleeping\n",
    "# totalTimeAsleep = what it detected when i was asleep\n",
    "\n",
    "\n",
    "\n"
   ]
  },
  {
   "cell_type": "code",
   "execution_count": 2,
   "metadata": {},
   "outputs": [],
   "source": [
    "## Getting heart rate (HR) data ##\n",
    "\n",
    "hr_list = []\n",
    "\n",
    "for ts in date_list:\n",
    "    date = ts.strftime('%Y-%m-%d')\n",
    "    url = \"https://api.fitbit.com/1/user/-/activities/heart/date/\" + date + \"/1d.json\"\n",
    "    header = {\"Authorization\": \"Bearer {}\".format(token)}\n",
    "    response = requests.get(url=url, headers=header).json()\n",
    "    \n",
    "    hr_list.append(response)\n",
    "\n",
    "with open(\"HEART_RATE.json\", \"w\") as f:\n",
    "    json.dump(hr_list, f)\n",
    "\n"
   ]
  },
  {
   "cell_type": "code",
   "execution_count": 3,
   "metadata": {},
   "outputs": [],
   "source": [
    "## Getting number of steps each day\n",
    "\n",
    "url = \"https://api.fitbit.com/1/user/-/activities/tracker/steps/date/\" + start_date + \"/\" + end_date + \".json\"\n",
    "\n",
    "response = requests.get(url=url, headers=header).json()\n",
    "\n",
    "with open(\"STEPS.json\", \"w\") as f:\n",
    "    json.dump(response, f)\n",
    "\n"
   ]
  },
  {
   "cell_type": "code",
   "execution_count": 4,
   "metadata": {},
   "outputs": [],
   "source": [
    "## Getting distance walked each day \n",
    "\n",
    "url = \"https://api.fitbit.com/1/user/-/activities/tracker/distance/date/\" + start_date + \"/\" + end_date + \".json\"\n",
    "\n",
    "response = requests.get(url=url, headers=header).json()\n",
    "\n",
    "with open(\"DISTANCE.json\", \"w\") as f:\n",
    "    json.dump(response, f)"
   ]
  },
  {
   "cell_type": "code",
   "execution_count": 5,
   "metadata": {},
   "outputs": [],
   "source": [
    "## Getting calories burned each day\n",
    "\n",
    "url = \"https://api.fitbit.com/1/user/-/activities/tracker/calories/date/\" + start_date + \"/\" + end_date + \".json\"\n",
    "\n",
    "response = requests.get(url=url, headers=header).json()\n",
    "\n",
    "with open(\"CALORIES.json\", \"w\") as f:\n",
    "    json.dump(response, f)"
   ]
  }
 ],
 "metadata": {
  "kernelspec": {
   "display_name": "Python 3",
   "language": "python",
   "name": "python3"
  },
  "language_info": {
   "codemirror_mode": {
    "name": "ipython",
    "version": 3
   },
   "file_extension": ".py",
   "mimetype": "text/x-python",
   "name": "python",
   "nbconvert_exporter": "python",
   "pygments_lexer": "ipython3",
   "version": "3.8.3"
  }
 },
 "nbformat": 4,
 "nbformat_minor": 4
}
