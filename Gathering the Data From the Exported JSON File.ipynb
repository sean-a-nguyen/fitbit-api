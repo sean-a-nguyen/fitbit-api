{
 "cells": [
  {
   "cell_type": "code",
   "execution_count": 1,
   "metadata": {},
   "outputs": [],
   "source": [
    "import pandas as pd\n",
    "import json"
   ]
  },
  {
   "cell_type": "code",
   "execution_count": 2,
   "metadata": {},
   "outputs": [],
   "source": [
    "## STEPS ##\n",
    "steps = open(\"STEPS.json\")\n",
    "\n",
    "data = json.load(steps)\n",
    "steps_dict = {}\n",
    "\n",
    "for k in data[\"activities-tracker-steps\"]:\n",
    "    date = k[\"dateTime\"]\n",
    "    value = k[\"value\"]\n",
    "    \n",
    "    steps_dict[date] = value\n",
    "\n",
    "steps.close()\n",
    "\n",
    "## CALORIES ## \n",
    "cal = open(\"CALORIES.json\")\n",
    "\n",
    "data = json.load(cal)\n",
    "cal_dict = {}\n",
    "\n",
    "for k in data[\"activities-tracker-calories\"]:\n",
    "    date = k[\"dateTime\"]\n",
    "    value = k[\"value\"]\n",
    "    \n",
    "    cal_dict[date] = value\n",
    "\n",
    "cal.close()\n",
    "\n",
    "## Distance ##\n",
    "dist = open(\"DISTANCE.json\")\n",
    "\n",
    "data = json.load(dist)\n",
    "dist_dict = {}\n",
    "\n",
    "for k in data[\"activities-tracker-distance\"]:\n",
    "    date = k[\"dateTime\"]\n",
    "    value = k[\"value\"]\n",
    "    \n",
    "    dist_dict[date] = value\n",
    "\n",
    "dist.close()\n",
    "    "
   ]
  },
  {
   "cell_type": "code",
   "execution_count": 3,
   "metadata": {},
   "outputs": [],
   "source": [
    "## HEART RATE ##\n",
    "\n",
    "hr = open(\"HEART_RATE.json\")\n",
    "\n",
    "data = json.load(hr)\n",
    "\n",
    "hr_dict = {}\n",
    "i = 0\n",
    "\n",
    "for k in data:\n",
    "    date = data[i][\"activities-heart\"][0][\"dateTime\"]\n",
    "    hr_values = data[i][\"activities-heart-intraday\"][\"dataset\"]\n",
    "    \n",
    "    hr_dict[date] = hr_values\n",
    "    \n",
    "    i+=1\n",
    "    \n",
    "hr.close()\n"
   ]
  },
  {
   "cell_type": "code",
   "execution_count": 4,
   "metadata": {},
   "outputs": [],
   "source": [
    "## SLEEP ##\n",
    "\n",
    "sleep = open(\"SLEEP.json\")\n",
    "\n",
    "data = json.load(sleep)\n",
    "\n",
    "sleep_dict = {}\n",
    "\n",
    "for k in data[\"sleep\"]:\n",
    "    date = k[\"dateOfSleep\"]\n",
    "    tib = k[\"timeInBed\"]\n",
    "    \n",
    "    sleep_dict[date] = tib\n",
    "    \n",
    "sleep.close()\n"
   ]
  },
  {
   "cell_type": "markdown",
   "metadata": {},
   "source": [
    "## Turn Data into Dataframes"
   ]
  },
  {
   "cell_type": "code",
   "execution_count": 5,
   "metadata": {},
   "outputs": [],
   "source": [
    "activity = [steps_dict, cal_dict, dist_dict]\n",
    "\n",
    "steps_ser = pd.Series(steps_dict, name=\"steps\")\n",
    "cal_ser = pd.Series(cal_dict, name=\"calories\")\n",
    "dist_ser = pd.Series(dist_dict, name=\"distance (mi)\")\n",
    "\n"
   ]
  },
  {
   "cell_type": "code",
   "execution_count": 6,
   "metadata": {},
   "outputs": [],
   "source": [
    "## For the hr data, we will get the average heart rate for the day\n",
    "\n",
    "avg_hr = {}\n",
    "\n",
    "for k in hr_dict.keys():\n",
    "    value = 0\n",
    "    for v in hr_dict[k]:\n",
    "        value += v[\"value\"]\n",
    "    avg = value / len(hr_dict[k])\n",
    "    avg_hr[k] = avg\n",
    "\n",
    "hr_ser = pd.Series(avg_hr, name=\"avg_hr\")\n"
   ]
  },
  {
   "cell_type": "markdown",
   "metadata": {},
   "source": [
    "## Export to CSV file"
   ]
  },
  {
   "cell_type": "code",
   "execution_count": 7,
   "metadata": {},
   "outputs": [],
   "source": [
    "## for the sleep data we need to reverse the order so it matches the date\n",
    "sleep_dict = dict(reversed(list(sleep_dict.items())))\n",
    "sleep_ser = pd.Series(sleep_dict, name=\"sleep (min)\")\n",
    "\n",
    "df = pd.concat([steps_ser, cal_ser, dist_ser, hr_ser, sleep_ser], axis=1)\n",
    "\n",
    "df.to_csv(r\"data.csv\", header=True)\n"
   ]
  }
 ],
 "metadata": {
  "kernelspec": {
   "display_name": "Python 3",
   "language": "python",
   "name": "python3"
  },
  "language_info": {
   "codemirror_mode": {
    "name": "ipython",
    "version": 3
   },
   "file_extension": ".py",
   "mimetype": "text/x-python",
   "name": "python",
   "nbconvert_exporter": "python",
   "pygments_lexer": "ipython3",
   "version": "3.8.3"
  }
 },
 "nbformat": 4,
 "nbformat_minor": 4
}
